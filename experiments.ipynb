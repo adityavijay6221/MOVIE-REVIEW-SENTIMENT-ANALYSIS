{
 "cells": [
  {
   "cell_type": "code",
   "execution_count": 8,
   "id": "d3f2e24a",
   "metadata": {},
   "outputs": [
    {
     "name": "stdout",
     "output_type": "stream",
     "text": [
      "Hello\n"
     ]
    }
   ],
   "source": [
    "#Test Run\n",
    "print('Hello')"
   ]
  },
  {
   "cell_type": "markdown",
   "id": "e6ae90fe",
   "metadata": {},
   "source": [
    "LOADING DATASET"
   ]
  },
  {
   "cell_type": "code",
   "execution_count": 9,
   "id": "90e803b1",
   "metadata": {},
   "outputs": [],
   "source": [
    "import pandas as pd\n",
    "import numpy as np\n",
    "import tensorflow as tf\n"
   ]
  },
  {
   "cell_type": "code",
   "execution_count": 10,
   "id": "523800c9",
   "metadata": {},
   "outputs": [],
   "source": [
    "from tensorflow.keras.datasets import imdb\n",
    "from tensorflow.keras.preprocessing.sequence import pad_sequences\n",
    "from tensorflow.keras.models import Sequential\n",
    "from tensorflow.keras.layers import Embedding, SimpleRNN, Dense"
   ]
  },
  {
   "cell_type": "markdown",
   "id": "d9cbffb8",
   "metadata": {},
   "source": [
    "TRAIN-TEST SPLIT"
   ]
  },
  {
   "cell_type": "code",
   "execution_count": 11,
   "id": "81eb9bb0",
   "metadata": {},
   "outputs": [],
   "source": [
    "#Train_test split\n",
    "(X_train,y_train),(X_test,y_test) = imdb.load_data(num_words=10000) #Vocabulary Size=10,000"
   ]
  },
  {
   "cell_type": "code",
   "execution_count": 12,
   "id": "5b22b64a",
   "metadata": {},
   "outputs": [
    {
     "data": {
      "text/plain": [
       "218"
      ]
     },
     "execution_count": 12,
     "metadata": {},
     "output_type": "execute_result"
    }
   ],
   "source": [
    "#SAMPLE CHECK\n",
    "first_review=X_train[0] # One Hot Encoded Form of 1st review\n",
    "len(first_review) # 218 words in first review"
   ]
  },
  {
   "cell_type": "code",
   "execution_count": 13,
   "id": "538100f5",
   "metadata": {},
   "outputs": [
    {
     "data": {
      "text/plain": [
       "np.int64(1)"
      ]
     },
     "execution_count": 13,
     "metadata": {},
     "output_type": "execute_result"
    }
   ],
   "source": [
    "label_review=y_train[0]\n",
    "label_review # Positive"
   ]
  },
  {
   "cell_type": "markdown",
   "id": "e17861e1",
   "metadata": {},
   "source": [
    "PADDING THE REVIEWS WITH MAX LENGTH OF EACH SENTENCE = 500 words"
   ]
  },
  {
   "cell_type": "code",
   "execution_count": 14,
   "id": "8bcff8bc",
   "metadata": {},
   "outputs": [
    {
     "data": {
      "text/plain": [
       "(500,)"
      ]
     },
     "execution_count": 14,
     "metadata": {},
     "output_type": "execute_result"
    }
   ],
   "source": [
    "max_len=500\n",
    "X_train=pad_sequences(X_train,maxlen=max_len)\n",
    "X_test=pad_sequences(X_test,maxlen=max_len)\n",
    "X_train[0].shape # Each sentence is of 500 length now"
   ]
  },
  {
   "cell_type": "markdown",
   "id": "01b8fe14",
   "metadata": {},
   "source": [
    "TRAINING SIMPLE RNN WITH EMBEDDING LAYER"
   ]
  },
  {
   "cell_type": "code",
   "execution_count": 15,
   "id": "ee767600",
   "metadata": {},
   "outputs": [
    {
     "name": "stderr",
     "output_type": "stream",
     "text": [
      "c:\\Users\\lenovo\\Desktop\\PROJECTS\\SENTIMENT_ANALYSIS_NLP\\venv\\Lib\\site-packages\\keras\\src\\layers\\core\\embedding.py:97: UserWarning: Argument `input_length` is deprecated. Just remove it.\n",
      "  warnings.warn(\n"
     ]
    }
   ],
   "source": [
    "model=Sequential()\n",
    "model.add(Embedding(10000,128,input_length=max_len)) # VOCABULARY SIZE, No.OF FEATURES OF EACH WORD, input size=500 [Each sentence is converted into a vector with dimensions 128 by AvgWORD2Vec in Embedding Layer]\n",
    "model.add(SimpleRNN(128, activation='relu'))\n",
    "model.add(Dense(1,activation='sigmoid'))"
   ]
  },
  {
   "cell_type": "code",
   "execution_count": 16,
   "id": "7e9e6f6a",
   "metadata": {},
   "outputs": [],
   "source": [
    "#COMPILING THE MODEL\n",
    "model.compile(optimizer='adam',loss='binary_crossentropy',metrics=['accuracy'])"
   ]
  },
  {
   "cell_type": "code",
   "execution_count": 17,
   "id": "cb0d1aed",
   "metadata": {},
   "outputs": [],
   "source": [
    "#SETTING UP EARLY STOPPING\n",
    "from tensorflow.keras.callbacks import EarlyStopping\n",
    "es=EarlyStopping(monitor='val_loss',patience=5, restore_best_weights=True)"
   ]
  },
  {
   "cell_type": "code",
   "execution_count": 18,
   "id": "22b0f337",
   "metadata": {},
   "outputs": [
    {
     "name": "stdout",
     "output_type": "stream",
     "text": [
      "Epoch 1/10\n",
      "\u001b[1m782/782\u001b[0m \u001b[32m━━━━━━━━━━━━━━━━━━━━\u001b[0m\u001b[37m\u001b[0m \u001b[1m208s\u001b[0m 263ms/step - accuracy: 0.6408 - loss: 12959.5332 - val_accuracy: 0.7020 - val_loss: 0.5741\n",
      "Epoch 2/10\n",
      "\u001b[1m782/782\u001b[0m \u001b[32m━━━━━━━━━━━━━━━━━━━━\u001b[0m\u001b[37m\u001b[0m \u001b[1m207s\u001b[0m 265ms/step - accuracy: 0.7982 - loss: 0.4526 - val_accuracy: 0.8131 - val_loss: 0.4142\n",
      "Epoch 3/10\n",
      "\u001b[1m782/782\u001b[0m \u001b[32m━━━━━━━━━━━━━━━━━━━━\u001b[0m\u001b[37m\u001b[0m \u001b[1m203s\u001b[0m 260ms/step - accuracy: 0.8795 - loss: 0.2816 - val_accuracy: 0.8310 - val_loss: 0.3855\n",
      "Epoch 4/10\n",
      "\u001b[1m782/782\u001b[0m \u001b[32m━━━━━━━━━━━━━━━━━━━━\u001b[0m\u001b[37m\u001b[0m \u001b[1m221s\u001b[0m 283ms/step - accuracy: 0.9204 - loss: 0.2015 - val_accuracy: 0.8264 - val_loss: 0.4244\n",
      "Epoch 5/10\n",
      "\u001b[1m782/782\u001b[0m \u001b[32m━━━━━━━━━━━━━━━━━━━━\u001b[0m\u001b[37m\u001b[0m \u001b[1m218s\u001b[0m 278ms/step - accuracy: 0.9403 - loss: 0.1539 - val_accuracy: 0.8432 - val_loss: 0.4790\n",
      "Epoch 6/10\n",
      "\u001b[1m782/782\u001b[0m \u001b[32m━━━━━━━━━━━━━━━━━━━━\u001b[0m\u001b[37m\u001b[0m \u001b[1m238s\u001b[0m 305ms/step - accuracy: 0.9513 - loss: 0.1299 - val_accuracy: 0.8350 - val_loss: 0.4899\n",
      "Epoch 7/10\n",
      "\u001b[1m782/782\u001b[0m \u001b[32m━━━━━━━━━━━━━━━━━━━━\u001b[0m\u001b[37m\u001b[0m \u001b[1m235s\u001b[0m 301ms/step - accuracy: 0.9383 - loss: 0.1711 - val_accuracy: 0.7416 - val_loss: 0.5310\n",
      "Epoch 8/10\n",
      "\u001b[1m782/782\u001b[0m \u001b[32m━━━━━━━━━━━━━━━━━━━━\u001b[0m\u001b[37m\u001b[0m \u001b[1m204s\u001b[0m 260ms/step - accuracy: 0.8020 - loss: 2.1908 - val_accuracy: 0.7564 - val_loss: 0.5398\n"
     ]
    }
   ],
   "source": [
    "#T\n",
    "# RAINING THE MODEL\n",
    "history=model.fit(X_train,y_train,validation_data=(X_test,y_test),epochs=10,callbacks=[es])"
   ]
  },
  {
   "cell_type": "code",
   "execution_count": 19,
   "id": "6a5139f6",
   "metadata": {},
   "outputs": [
    {
     "name": "stderr",
     "output_type": "stream",
     "text": [
      "WARNING:absl:You are saving your model as an HDF5 file via `model.save()` or `keras.saving.save_model(model)`. This file format is considered legacy. We recommend using instead the native Keras format, e.g. `model.save('my_model.keras')` or `keras.saving.save_model(model, 'my_model.keras')`. \n"
     ]
    }
   ],
   "source": [
    "#SAVING THE MODEL\n",
    "model.save('model_rnn.h5')"
   ]
  },
  {
   "cell_type": "code",
   "execution_count": 20,
   "id": "cac9860f",
   "metadata": {},
   "outputs": [],
   "source": [
    "word_index=imdb.get_word_index()\n",
    "reverse_word_index={value: key for key,value in word_index.items()}"
   ]
  },
  {
   "cell_type": "code",
   "execution_count": 21,
   "id": "d6b4e012",
   "metadata": {},
   "outputs": [],
   "source": [
    "#DEFINING HELPER FUNCTIONS\n",
    "#1. DECODING REVIEWS\n",
    "def decode_review(encoded_review):\n",
    "  return ' '.join([reverse_word_index.get(i-3, '?') for i in encoded_review])\n",
    "\n",
    "#2. PRE_PROCESS TEXT\n",
    "def pre_process(text):\n",
    "  words=text.lower().split() # Splitting sentence into words and lowering the case\n",
    "  encoded_review=[word_index.get(word,2) + 3 for word in words]\n",
    "  padded_review=pad_sequences([encoded_review],maxlen=max_len)\n",
    "  return padded_review\n"
   ]
  },
  {
   "cell_type": "code",
   "execution_count": 22,
   "id": "0cd90509",
   "metadata": {},
   "outputs": [],
   "source": [
    "#FUNCTION TO PREDICT SENTIMENT\n",
    "def predict_sentiment(review):\n",
    "  pre_processed_input=pre_process(review)\n",
    "  prediction=model.predict(pre_processed_input)\n",
    "  sentiment='Positive' if prediction[0][0]>0.5 else 'Negative'\n",
    "  return sentiment, prediction[0][0]\n"
   ]
  },
  {
   "cell_type": "code",
   "execution_count": 24,
   "id": "6ff8e878",
   "metadata": {},
   "outputs": [
    {
     "name": "stdout",
     "output_type": "stream",
     "text": [
      "\u001b[1m1/1\u001b[0m \u001b[32m━━━━━━━━━━━━━━━━━━━━\u001b[0m\u001b[37m\u001b[0m \u001b[1m0s\u001b[0m 119ms/step\n"
     ]
    },
    {
     "data": {
      "text/plain": [
       "('Positive', np.float32(0.539804))"
      ]
     },
     "execution_count": 24,
     "metadata": {},
     "output_type": "execute_result"
    }
   ],
   "source": [
    "example_review='movie was good'\n",
    "predict_sentiment(example_review)"
   ]
  }
 ],
 "metadata": {
  "kernelspec": {
   "display_name": "venv (3.13.5)",
   "language": "python",
   "name": "python3"
  },
  "language_info": {
   "codemirror_mode": {
    "name": "ipython",
    "version": 3
   },
   "file_extension": ".py",
   "mimetype": "text/x-python",
   "name": "python",
   "nbconvert_exporter": "python",
   "pygments_lexer": "ipython3",
   "version": "3.13.5"
  }
 },
 "nbformat": 4,
 "nbformat_minor": 5
}
