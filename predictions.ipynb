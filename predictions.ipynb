{
 "cells": [
  {
   "cell_type": "code",
   "execution_count": 1,
   "id": "1545cb29",
   "metadata": {},
   "outputs": [
    {
     "name": "stdout",
     "output_type": "stream",
     "text": [
      "Hello\n"
     ]
    }
   ],
   "source": [
    "#TESTING\n",
    "print('Hello')"
   ]
  },
  {
   "cell_type": "code",
   "execution_count": 31,
   "id": "a5aedbe2",
   "metadata": {},
   "outputs": [
    {
     "name": "stderr",
     "output_type": "stream",
     "text": [
      "WARNING:absl:Compiled the loaded model, but the compiled metrics have yet to be built. `model.compile_metrics` will be empty until you train or evaluate the model.\n"
     ]
    }
   ],
   "source": [
    "import tensorflow as tf\n",
    "from tensorflow.keras.datasets import imdb\n",
    "from tensorflow.keras.preprocessing.sequence import pad_sequences\n",
    "from tensorflow.keras.models import load_model\n",
    "model_rnn=load_model('model_rnn.h5')\n"
   ]
  },
  {
   "cell_type": "code",
   "execution_count": 32,
   "id": "6ec87f56",
   "metadata": {},
   "outputs": [
    {
     "data": {
      "text/plain": [
       "1"
      ]
     },
     "execution_count": 32,
     "metadata": {},
     "output_type": "execute_result"
    }
   ],
   "source": [
    "word_index=imdb.get_word_index()\n",
    "word_index\n",
    "word_index.get('the')"
   ]
  },
  {
   "cell_type": "code",
   "execution_count": 33,
   "id": "db25f760",
   "metadata": {},
   "outputs": [
    {
     "data": {
      "text/plain": [
       "'more'"
      ]
     },
     "execution_count": 33,
     "metadata": {},
     "output_type": "execute_result"
    }
   ],
   "source": [
    "reverse_word_index={value: key for key,value in word_index.items()}\n",
    "reverse_word_index.get(50)"
   ]
  },
  {
   "cell_type": "code",
   "execution_count": 34,
   "id": "74c59530",
   "metadata": {},
   "outputs": [],
   "source": [
    "#DEFINING HELPER FUNCTIONS\n",
    "#1. DECODING REVIEWS\n",
    "def decode_review(encoded_review):\n",
    "  return ' '.join([reverse_word_index.get(i-3, '?') for i in encoded_review])\n",
    "\n",
    "#2. PRE_PROCESS TEXT\n",
    "def pre_process(text):\n",
    "  words=text.lower().split() # Splitting sentence into words and lowering the case\n",
    "  encoded_review=[word_index.get(word,2) + 3 for word in words]\n",
    "  padded_review=pad_sequences([encoded_review],maxlen=500)\n",
    "  return padded_review"
   ]
  },
  {
   "cell_type": "code",
   "execution_count": 35,
   "id": "545e31a4",
   "metadata": {},
   "outputs": [],
   "source": [
    "#FUNCTION TO PREDICT SENTIMENT\n",
    "def predict_sentiment(review):\n",
    "  pre_processed_input=pre_process(review)\n",
    "  prediction=model_rnn.predict(pre_processed_input)\n",
    "  sentiment='Positive' if prediction[0][0]>0.5 else 'Negative'\n",
    "  return sentiment, prediction[0][0]"
   ]
  },
  {
   "cell_type": "code",
   "execution_count": 36,
   "id": "1a323ab8",
   "metadata": {},
   "outputs": [
    {
     "name": "stdout",
     "output_type": "stream",
     "text": [
      "\u001b[1m1/1\u001b[0m \u001b[32m━━━━━━━━━━━━━━━━━━━━\u001b[0m\u001b[37m\u001b[0m \u001b[1m2s\u001b[0m 2s/step\n"
     ]
    },
    {
     "data": {
      "text/plain": [
       "('Negative', np.float32(0.49748573))"
      ]
     },
     "execution_count": 36,
     "metadata": {},
     "output_type": "execute_result"
    }
   ],
   "source": [
    "example_review='Good movie'\n",
    "predict_sentiment(example_review)"
   ]
  }
 ],
 "metadata": {
  "kernelspec": {
   "display_name": "venv (3.13.5)",
   "language": "python",
   "name": "python3"
  },
  "language_info": {
   "codemirror_mode": {
    "name": "ipython",
    "version": 3
   },
   "file_extension": ".py",
   "mimetype": "text/x-python",
   "name": "python",
   "nbconvert_exporter": "python",
   "pygments_lexer": "ipython3",
   "version": "3.13.5"
  }
 },
 "nbformat": 4,
 "nbformat_minor": 5
}
